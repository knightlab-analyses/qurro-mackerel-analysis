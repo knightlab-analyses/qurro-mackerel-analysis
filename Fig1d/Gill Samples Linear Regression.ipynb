{
 "cells": [
  {
   "cell_type": "markdown",
   "metadata": {},
   "source": [
    "## Linear regression of est. fish age to `g__Shewanella`:`o__Synechococcales` log-latio\n",
    "Just for gill samples (in particular, only those gill samples already used in the visualization and with a valid log-ratio)."
   ]
  },
  {
   "cell_type": "markdown",
   "metadata": {},
   "source": [
    "### Load the exported sample plot data from Qurro"
   ]
  },
  {
   "cell_type": "code",
   "execution_count": 1,
   "metadata": {},
   "outputs": [
    {
     "name": "stdout",
     "output_type": "stream",
     "text": [
      "820 samples total in the visualization.\n"
     ]
    },
    {
     "data": {
      "text/html": [
       "<div>\n",
       "<style scoped>\n",
       "    .dataframe tbody tr th:only-of-type {\n",
       "        vertical-align: middle;\n",
       "    }\n",
       "\n",
       "    .dataframe tbody tr th {\n",
       "        vertical-align: top;\n",
       "    }\n",
       "\n",
       "    .dataframe thead th {\n",
       "        text-align: right;\n",
       "    }\n",
       "</style>\n",
       "<table border=\"1\" class=\"dataframe\">\n",
       "  <thead>\n",
       "    <tr style=\"text-align: right;\">\n",
       "      <th></th>\n",
       "      <th>Current_Log_Ratio</th>\n",
       "      <th>age_2</th>\n",
       "      <th>sample_type_body_site</th>\n",
       "    </tr>\n",
       "    <tr>\n",
       "      <th>Sample ID</th>\n",
       "      <th></th>\n",
       "      <th></th>\n",
       "      <th></th>\n",
       "    </tr>\n",
       "  </thead>\n",
       "  <tbody>\n",
       "    <tr>\n",
       "      <th>11721.s38.19.gill</th>\n",
       "      <td>1.3862943611198908</td>\n",
       "      <td>1.822653664</td>\n",
       "      <td>fish gill</td>\n",
       "    </tr>\n",
       "    <tr>\n",
       "      <th>11721.ep25ul.1000nl.s12.5.gill</th>\n",
       "      <td>1.3426977136141325</td>\n",
       "      <td>1.772148094</td>\n",
       "      <td>fish gill</td>\n",
       "    </tr>\n",
       "    <tr>\n",
       "      <th>11721.SDsw.1.2018.26</th>\n",
       "      <td>null</td>\n",
       "      <td>not applicable</td>\n",
       "      <td>sea water</td>\n",
       "    </tr>\n",
       "    <tr>\n",
       "      <th>11721.s13.1.digesta</th>\n",
       "      <td>null</td>\n",
       "      <td>1.648286083</td>\n",
       "      <td>fish digesta</td>\n",
       "    </tr>\n",
       "    <tr>\n",
       "      <th>11721.s1.1.digesta</th>\n",
       "      <td>-2.7647455447787554</td>\n",
       "      <td>0.947601174</td>\n",
       "      <td>fish digesta</td>\n",
       "    </tr>\n",
       "  </tbody>\n",
       "</table>\n",
       "</div>"
      ],
      "text/plain": [
       "                                  Current_Log_Ratio           age_2  \\\n",
       "Sample ID                                                             \n",
       "11721.s38.19.gill                1.3862943611198908     1.822653664   \n",
       "11721.ep25ul.1000nl.s12.5.gill   1.3426977136141325     1.772148094   \n",
       "11721.SDsw.1.2018.26                           null  not applicable   \n",
       "11721.s13.1.digesta                            null     1.648286083   \n",
       "11721.s1.1.digesta              -2.7647455447787554     0.947601174   \n",
       "\n",
       "                               sample_type_body_site  \n",
       "Sample ID                                             \n",
       "11721.s38.19.gill                          fish gill  \n",
       "11721.ep25ul.1000nl.s12.5.gill             fish gill  \n",
       "11721.SDsw.1.2018.26                       sea water  \n",
       "11721.s13.1.digesta                     fish digesta  \n",
       "11721.s1.1.digesta                      fish digesta  "
      ]
     },
     "execution_count": 1,
     "metadata": {},
     "output_type": "execute_result"
    }
   ],
   "source": [
    "import pandas as pd\n",
    "sp = pd.read_csv(\"g_shew_over_o_syn_age.tsv\", sep='\\t', index_col=0, na_filter=False)\n",
    "print(\"{} samples total in the visualization.\".format(len(sp.index)))\n",
    "sp.head()"
   ]
  },
  {
   "cell_type": "markdown",
   "metadata": {},
   "source": [
    "### Remove samples with an invalid log-ratio"
   ]
  },
  {
   "cell_type": "code",
   "execution_count": 2,
   "metadata": {},
   "outputs": [
    {
     "name": "stdout",
     "output_type": "stream",
     "text": [
      "307 samples have a valid Shewanella:Synechococcales log-ratio.\n"
     ]
    },
    {
     "data": {
      "text/html": [
       "<div>\n",
       "<style scoped>\n",
       "    .dataframe tbody tr th:only-of-type {\n",
       "        vertical-align: middle;\n",
       "    }\n",
       "\n",
       "    .dataframe tbody tr th {\n",
       "        vertical-align: top;\n",
       "    }\n",
       "\n",
       "    .dataframe thead th {\n",
       "        text-align: right;\n",
       "    }\n",
       "</style>\n",
       "<table border=\"1\" class=\"dataframe\">\n",
       "  <thead>\n",
       "    <tr style=\"text-align: right;\">\n",
       "      <th></th>\n",
       "      <th>Current_Log_Ratio</th>\n",
       "      <th>age_2</th>\n",
       "      <th>sample_type_body_site</th>\n",
       "    </tr>\n",
       "    <tr>\n",
       "      <th>Sample ID</th>\n",
       "      <th></th>\n",
       "      <th></th>\n",
       "      <th></th>\n",
       "    </tr>\n",
       "  </thead>\n",
       "  <tbody>\n",
       "    <tr>\n",
       "      <th>11721.s38.19.gill</th>\n",
       "      <td>1.3862943611198908</td>\n",
       "      <td>1.822653664</td>\n",
       "      <td>fish gill</td>\n",
       "    </tr>\n",
       "    <tr>\n",
       "      <th>11721.ep25ul.1000nl.s12.5.gill</th>\n",
       "      <td>1.3426977136141325</td>\n",
       "      <td>1.772148094</td>\n",
       "      <td>fish gill</td>\n",
       "    </tr>\n",
       "    <tr>\n",
       "      <th>11721.s1.1.digesta</th>\n",
       "      <td>-2.7647455447787554</td>\n",
       "      <td>0.947601174</td>\n",
       "      <td>fish digesta</td>\n",
       "    </tr>\n",
       "    <tr>\n",
       "      <th>11721.s38.13.gill</th>\n",
       "      <td>6.555072356312942</td>\n",
       "      <td>0.864576865</td>\n",
       "      <td>fish gill</td>\n",
       "    </tr>\n",
       "    <tr>\n",
       "      <th>11721.s38.23.skin</th>\n",
       "      <td>2.8332133440562166</td>\n",
       "      <td>0.585382262</td>\n",
       "      <td>fish skin</td>\n",
       "    </tr>\n",
       "  </tbody>\n",
       "</table>\n",
       "</div>"
      ],
      "text/plain": [
       "                                  Current_Log_Ratio        age_2  \\\n",
       "Sample ID                                                          \n",
       "11721.s38.19.gill                1.3862943611198908  1.822653664   \n",
       "11721.ep25ul.1000nl.s12.5.gill   1.3426977136141325  1.772148094   \n",
       "11721.s1.1.digesta              -2.7647455447787554  0.947601174   \n",
       "11721.s38.13.gill                 6.555072356312942  0.864576865   \n",
       "11721.s38.23.skin                2.8332133440562166  0.585382262   \n",
       "\n",
       "                               sample_type_body_site  \n",
       "Sample ID                                             \n",
       "11721.s38.19.gill                          fish gill  \n",
       "11721.ep25ul.1000nl.s12.5.gill             fish gill  \n",
       "11721.s1.1.digesta                      fish digesta  \n",
       "11721.s38.13.gill                          fish gill  \n",
       "11721.s38.23.skin                          fish skin  "
      ]
     },
     "execution_count": 2,
     "metadata": {},
     "output_type": "execute_result"
    }
   ],
   "source": [
    "sp_valid = sp.loc[sp[\"Current_Log_Ratio\"] != \"null\"]\n",
    "print(\"{} samples have a valid Shewanella:Synechococcales log-ratio.\".format(len(sp_valid.index)))\n",
    "sp_valid.head()"
   ]
  },
  {
   "cell_type": "markdown",
   "metadata": {},
   "source": [
    "### Remove samples that aren't from fish gills"
   ]
  },
  {
   "cell_type": "code",
   "execution_count": 3,
   "metadata": {},
   "outputs": [
    {
     "name": "stdout",
     "output_type": "stream",
     "text": [
      "148 gill samples have a valid log-ratio.\n"
     ]
    },
    {
     "data": {
      "text/html": [
       "<div>\n",
       "<style scoped>\n",
       "    .dataframe tbody tr th:only-of-type {\n",
       "        vertical-align: middle;\n",
       "    }\n",
       "\n",
       "    .dataframe tbody tr th {\n",
       "        vertical-align: top;\n",
       "    }\n",
       "\n",
       "    .dataframe thead th {\n",
       "        text-align: right;\n",
       "    }\n",
       "</style>\n",
       "<table border=\"1\" class=\"dataframe\">\n",
       "  <thead>\n",
       "    <tr style=\"text-align: right;\">\n",
       "      <th></th>\n",
       "      <th>Current_Log_Ratio</th>\n",
       "      <th>age_2</th>\n",
       "      <th>sample_type_body_site</th>\n",
       "    </tr>\n",
       "    <tr>\n",
       "      <th>Sample ID</th>\n",
       "      <th></th>\n",
       "      <th></th>\n",
       "      <th></th>\n",
       "    </tr>\n",
       "  </thead>\n",
       "  <tbody>\n",
       "    <tr>\n",
       "      <th>11721.s38.19.gill</th>\n",
       "      <td>1.3862943611198908</td>\n",
       "      <td>1.822653664</td>\n",
       "      <td>fish gill</td>\n",
       "    </tr>\n",
       "    <tr>\n",
       "      <th>11721.ep25ul.1000nl.s12.5.gill</th>\n",
       "      <td>1.3426977136141325</td>\n",
       "      <td>1.772148094</td>\n",
       "      <td>fish gill</td>\n",
       "    </tr>\n",
       "    <tr>\n",
       "      <th>11721.s38.13.gill</th>\n",
       "      <td>6.555072356312942</td>\n",
       "      <td>0.864576865</td>\n",
       "      <td>fish gill</td>\n",
       "    </tr>\n",
       "    <tr>\n",
       "      <th>11721.s38.16.gill</th>\n",
       "      <td>6.540869652841447</td>\n",
       "      <td>2.304387486</td>\n",
       "      <td>fish gill</td>\n",
       "    </tr>\n",
       "    <tr>\n",
       "      <th>11721.echo5ul.200nl.s9.6.gill</th>\n",
       "      <td>6.877222431083537</td>\n",
       "      <td>1.772148094</td>\n",
       "      <td>fish gill</td>\n",
       "    </tr>\n",
       "  </tbody>\n",
       "</table>\n",
       "</div>"
      ],
      "text/plain": [
       "                                 Current_Log_Ratio        age_2  \\\n",
       "Sample ID                                                         \n",
       "11721.s38.19.gill               1.3862943611198908  1.822653664   \n",
       "11721.ep25ul.1000nl.s12.5.gill  1.3426977136141325  1.772148094   \n",
       "11721.s38.13.gill                6.555072356312942  0.864576865   \n",
       "11721.s38.16.gill                6.540869652841447  2.304387486   \n",
       "11721.echo5ul.200nl.s9.6.gill    6.877222431083537  1.772148094   \n",
       "\n",
       "                               sample_type_body_site  \n",
       "Sample ID                                             \n",
       "11721.s38.19.gill                          fish gill  \n",
       "11721.ep25ul.1000nl.s12.5.gill             fish gill  \n",
       "11721.s38.13.gill                          fish gill  \n",
       "11721.s38.16.gill                          fish gill  \n",
       "11721.echo5ul.200nl.s9.6.gill              fish gill  "
      ]
     },
     "execution_count": 3,
     "metadata": {},
     "output_type": "execute_result"
    }
   ],
   "source": [
    "sp_valid_gill = sp_valid.loc[sp_valid[\"sample_type_body_site\"] == \"fish gill\"]\n",
    "print(\"{} gill samples have a valid log-ratio.\".format(len(sp_valid_gill.index)))\n",
    "sp_valid_gill.head()"
   ]
  },
  {
   "cell_type": "markdown",
   "metadata": {},
   "source": [
    "### Draw a basic scatter-plot of estimated age vs. log-ratio for just gill samples"
   ]
  },
  {
   "cell_type": "code",
   "execution_count": 4,
   "metadata": {},
   "outputs": [
    {
     "name": "stderr",
     "output_type": "stream",
     "text": [
      "/anaconda3/envs/qiime2-2019.7/lib/python3.6/site-packages/ipykernel_launcher.py:2: SettingWithCopyWarning: \n",
      "A value is trying to be set on a copy of a slice from a DataFrame.\n",
      "Try using .loc[row_indexer,col_indexer] = value instead\n",
      "\n",
      "See the caveats in the documentation: http://pandas.pydata.org/pandas-docs/stable/indexing.html#indexing-view-versus-copy\n",
      "  \n",
      "/anaconda3/envs/qiime2-2019.7/lib/python3.6/site-packages/ipykernel_launcher.py:3: SettingWithCopyWarning: \n",
      "A value is trying to be set on a copy of a slice from a DataFrame.\n",
      "Try using .loc[row_indexer,col_indexer] = value instead\n",
      "\n",
      "See the caveats in the documentation: http://pandas.pydata.org/pandas-docs/stable/indexing.html#indexing-view-versus-copy\n",
      "  This is separate from the ipykernel package so we can avoid doing imports until\n"
     ]
    },
    {
     "data": {
      "text/plain": [
       "<matplotlib.axes._subplots.AxesSubplot at 0x113836ba8>"
      ]
     },
     "execution_count": 4,
     "metadata": {},
     "output_type": "execute_result"
    }
   ],
   "source": [
    "# We need to manually set the age and log-ratio columns as numeric\n",
    "sp_valid_gill[\"age_2\"] = pd.to_numeric(sp_valid_gill[\"age_2\"])\n",
    "sp_valid_gill[\"Current_Log_Ratio\"] = pd.to_numeric(sp_valid_gill[\"Current_Log_Ratio\"])\n",
    "\n",
    "# We use color and transparency values that match what's used in this scatterplot in Qurro\n",
    "# (this color is one of the defaults in the tableau10 colorscheme --\n",
    "# see https://vega.github.io/vega/docs/schemes/#tableau10)\n",
    "sp_valid_gill.plot(kind=\"scatter\", x=\"age_2\", y=\"Current_Log_Ratio\", c=\"#e45756\", alpha=0.7)"
   ]
  },
  {
   "cell_type": "markdown",
   "metadata": {},
   "source": [
    "### Perform ordinary-least-squares linear regression on this data\n",
    "We'll use [scikit-learn](https://scikit-learn.org/stable/) to do this. This section is based on [this example](https://towardsdatascience.com/linear-regression-in-6-lines-of-python-5e1d0cd05b8d) of performing linear regression in scikit-learn -- credit to Adarsh Menon."
   ]
  },
  {
   "cell_type": "code",
   "execution_count": 5,
   "metadata": {},
   "outputs": [
    {
     "name": "stdout",
     "output_type": "stream",
     "text": [
      "R^2 = 0.10219254734081584\n"
     ]
    },
    {
     "data": {
      "image/png": "[encoded data removed]",
      "text/plain": [
       "<Figure size 432x288 with 1 Axes>"
      ]
     },
     "metadata": {
      "needs_background": "light"
     },
     "output_type": "display_data"
    }
   ],
   "source": [
    "from sklearn.linear_model import LinearRegression\n",
    "from matplotlib import pyplot\n",
    "\n",
    "# Reshape the data to get into a format that LinearRegression accepts\n",
    "x = sp_valid_gill[\"age_2\"].values.reshape(-1, 1)\n",
    "y = sp_valid_gill[\"Current_Log_Ratio\"].values.reshape(-1, 1)\n",
    "\n",
    "# Perform linear regression\n",
    "lr = LinearRegression().fit(x, y)\n",
    "lr_y = lr.predict(x)\n",
    "\n",
    "# Plot the same scatterplot as before, but visualize the linear regression alongside the samples\n",
    "sp_valid_gill.plot(kind=\"scatter\", x=\"age_2\", y=\"Current_Log_Ratio\", c=\"#e45756\", alpha=0.7)\n",
    "pyplot.plot(x, lr_y, color=\"black\")\n",
    "\n",
    "# Make the titles informative\n",
    "pyplot.xlabel(\"Estimated fish age\")\n",
    "pyplot.ylabel(\"log(g__Shewanella / o__Synechococcales)\")\n",
    "pyplot.title(\"Estimated fish age vs. examined log-ratio (gill samples)\")\n",
    "\n",
    "# Export the plot\n",
    "pyplot.savefig(\"gill_lr.pdf\", dpi=600)\n",
    "\n",
    "# What's the R^2 value of this regression model?\n",
    "print(\"R^2 = {}\".format(lr.score(x, y)))"
   ]
  },
  {
   "cell_type": "code",
   "execution_count": null,
   "metadata": {},
   "outputs": [],
   "source": []
  }
 ],
 "metadata": {
  "kernelspec": {
   "display_name": "Python 3",
   "language": "python",
   "name": "python3"
  },
  "language_info": {
   "codemirror_mode": {
    "name": "ipython",
    "version": 3
   },
   "file_extension": ".py",
   "mimetype": "text/x-python",
   "name": "python",
   "nbconvert_exporter": "python",
   "pygments_lexer": "ipython3",
   "version": "3.6.7"
  }
 },
 "nbformat": 4,
 "nbformat_minor": 2
}

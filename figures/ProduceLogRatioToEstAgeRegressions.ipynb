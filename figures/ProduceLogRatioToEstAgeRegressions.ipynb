{
 "cells": [
  {
   "cell_type": "markdown",
   "metadata": {},
   "source": [
    "# Linear regression of (estimated) fish age to selected log-ratios for gill samples\n",
    "## What does this notebook do?\n",
    "This produces a scatterplot with a line showing this regression. These scatterplots are in the Qurro paper as Figs. 1(d) and 2(d).\n",
    "\n",
    "These plots, and the visualized linear regression, are only computed for gill samples: in particular, only gill samples that 1) are already used in the Qurro visualization and 2) have a valid log-ratio (i.e. do not have 0 in the numerator and/or denominator of the selected log-ratio).\n",
    "\n",
    "## What's with the functions?\n",
    "I've moved most of the logic here to three separate functions (`load_log_ratios()`, `make_scatterplot_of_log_ratios()`, and `perform_ols_regression_on_log_ratios()`) so that replicating this sort of thing with multiple log-ratio files should be relatively painless. All you need is the TSV file with sample plot data exported from Qurro (these are in this directory as `logratios.tsv` and `10_logratios.tsv` for the `Shewanella : Synechococcales` and `Top 10% : Bottom 10%` log-ratios, respectively).\n",
    "\n",
    "The reason this notebook's functionality is spread across three different functions (and not just a single one) is so that the output of each step can be easily displayed (e.g. the `head()` of a DataFrame or a drawing of a plot), since putting `.head()` in the middle of a Jupyter Notebook cell doesn't actually display the head of the DataFrame. There's almost certainly a better way to structure this code, but I figure this should be a reasonable enough solution.\n",
    "\n",
    "## Why do you write this documentation in a Q&A format? Seriously, reading this is weird.\n",
    "Wow! That sounds like a loaded question, so I'm not going to answer it."
   ]
  },
  {
   "cell_type": "code",
   "execution_count": 32,
   "metadata": {},
   "outputs": [],
   "source": [
    "import pandas as pd\n",
    "from sklearn.linear_model import LinearRegression\n",
    "from matplotlib import pyplot\n",
    "\n",
    "def load_log_ratios(tsv_filename):\n",
    "    \"\"\"Returns a DataFrame of sample plot data subset to gill samples with a valid log-ratio.\"\"\"\n",
    "    sp = pd.read_csv(tsv_filename, sep='\\t', index_col=0, na_filter=False)\n",
    "    print(\"{} samples total in the visualization.\".format(len(sp.index)))\n",
    "    \n",
    "    # Remove samples with an invalid log-ratio\n",
    "    sp_valid = sp.loc[sp[\"Current_Natural_Log_Ratio\"] != \"null\"]\n",
    "    print(\"{} samples in the visualization have a valid selected log-ratio.\".format(\n",
    "        len(sp_valid.index)\n",
    "    ))\n",
    "    \n",
    "    # Remove samples that aren't from fish gills\n",
    "    sp_valid_gill = sp_valid.loc[sp_valid[\"sample_type_body_site\"] == \"fish gill\"]\n",
    "    print(\"{} samples in the visualization with a valid selected log-ratio are gill samples.\".format(\n",
    "        len(sp_valid_gill.index)\n",
    "    ))\n",
    "    \n",
    "    # We need to manually set the age and log-ratio columns as numeric for plotting them. Commenting these\n",
    "    # lines out will cause things to break when plotting these values.\n",
    "    # (Setting the columns of the DataFrame in this way results in pandas giving you a\n",
    "    # SettingWithCopyWarning, but after a few minutes of messing around with this I haven't figured out a\n",
    "    # way to get around that...)\n",
    "    sp_valid_gill[\"age_2\"] = pd.to_numeric(sp_valid_gill[\"age_2\"])\n",
    "    sp_valid_gill[\"Current_Natural_Log_Ratio\"] = pd.to_numeric(sp_valid_gill[\"Current_Natural_Log_Ratio\"])\n",
    "    \n",
    "    return sp_valid_gill\n",
    "\n",
    "def make_scatterplot_of_log_ratios(sp_valid_gill):\n",
    "    \"\"\"Draws a basic scatter-plot of estimated age vs. log-ratio for just gill samples.\n",
    "    \n",
    "    Useful as a basic sanity check before we compute the linear regression.\n",
    "    \"\"\"\n",
    "    \n",
    "    # We use color and transparency values that match what's used in this scatterplot in Qurro\n",
    "    # (this color is one of the defaults in the tableau10 colorscheme --\n",
    "    # see https://vega.github.io/vega/docs/schemes/#tableau10)\n",
    "    sp_valid_gill.plot(kind=\"scatter\", x=\"age_2\", y=\"Current_Natural_Log_Ratio\", c=\"#e45756\", alpha=0.7)\n",
    "    \n",
    "def perform_ols_regression_on_log_ratios(sp_valid_gill, output_figure_filename):\n",
    "    \"\"\"Draws a scatter-plot of estimated age vs. log-ratio, with a line showing a linear regression.\n",
    "    \n",
    "    The linear regression is computed using scikit-learn. Our use of LinearRegression here is based on\n",
    "    this example: https://towardsdatascience.com/linear-regression-in-6-lines-of-python-5e1d0cd05b8d.\n",
    "    \"\"\"\n",
    "    # Reshape the data to get into a format that LinearRegression accepts\n",
    "    x = sp_valid_gill[\"age_2\"].values.reshape(-1, 1)\n",
    "    y = sp_valid_gill[\"Current_Natural_Log_Ratio\"].values.reshape(-1, 1)\n",
    "\n",
    "    num_samples = len(sp_valid_gill.index)\n",
    "    \n",
    "    # Perform linear regression\n",
    "    lr = LinearRegression().fit(x, y)\n",
    "    lr_y = lr.predict(x)\n",
    "    \n",
    "    # Compute the R^2 value of this regression model\n",
    "    r2 = lr.score(x, y)\n",
    "    print(\"R^2 = {}\".format(r2))\n",
    "\n",
    "    # Plot the same scatterplot as before, but visualize the linear regression alongside the samples\n",
    "    # NOTE: for some reason, I can't seem to get transparency here to remain when I export the final\n",
    "    # Fig. 1 from LibreOffice Draw. So Fig. 1(d) will have opaque samples.\n",
    "    sp_valid_gill.plot(kind=\"scatter\", x=\"age_2\", y=\"Current_Natural_Log_Ratio\", c=\"#e45756\", alpha=0.7)\n",
    "    pyplot.plot(x, lr_y, color=\"black\")\n",
    "\n",
    "    # Make the titles informative (and large)\n",
    "    pyplot.xlabel(\"Estimated fish age (age_2)\", fontsize=\"x-large\")\n",
    "    pyplot.ylabel(\"Current Natural Log-Ratio\", fontsize=\"x-large\")\n",
    "    # The double-backslashes in \\\\approx are needed in order to prevent the \\a from being interpreted\n",
    "    # as an escape character. Using a raw string (r\"...\") would also circumvent this problem; shout out\n",
    "    # to https://stackoverflow.com/a/24739481/10730311 for help in getting around this.\n",
    "    pyplot.title(\"Gill Samples with a Valid Log-Ratio ($n = {}$)\\n$R^2 \\\\approx {:.4f}$\".format(num_samples, r2), fontsize=\"x-large\")\n",
    "\n",
    "    # Make ticks consistent with Fig. 1(c) (which was edited in the Vega Editor)\n",
    "    pyplot.yticks([-5, 0, 5])\n",
    "    pyplot.xticks([0, 1, 2, 3, 4])\n",
    "\n",
    "    # Also, show gridlines (like in Fig. 1(c))\n",
    "    pyplot.grid(True)\n",
    "\n",
    "    # Export the plot\n",
    "    pyplot.savefig(output_figure_filename, dpi=600)"
   ]
  },
  {
   "cell_type": "markdown",
   "metadata": {},
   "source": [
    "## Log-ratio of `Shewanella` to `Synechococcales`"
   ]
  },
  {
   "cell_type": "code",
   "execution_count": 33,
   "metadata": {},
   "outputs": [
    {
     "name": "stdout",
     "output_type": "stream",
     "text": [
      "639 samples total in the visualization.\n",
      "285 samples in the visualization have a valid selected log-ratio.\n",
      "143 samples in the visualization with a valid selected log-ratio are gill samples.\n"
     ]
    },
    {
     "name": "stderr",
     "output_type": "stream",
     "text": [
      "/home/marcus/Software/miniconda2/envs/skbio/lib/python3.6/site-packages/ipykernel_launcher.py:27: SettingWithCopyWarning: \n",
      "A value is trying to be set on a copy of a slice from a DataFrame.\n",
      "Try using .loc[row_indexer,col_indexer] = value instead\n",
      "\n",
      "See the caveats in the documentation: http://pandas.pydata.org/pandas-docs/stable/indexing.html#indexing-view-versus-copy\n",
      "/home/marcus/Software/miniconda2/envs/skbio/lib/python3.6/site-packages/ipykernel_launcher.py:28: SettingWithCopyWarning: \n",
      "A value is trying to be set on a copy of a slice from a DataFrame.\n",
      "Try using .loc[row_indexer,col_indexer] = value instead\n",
      "\n",
      "See the caveats in the documentation: http://pandas.pydata.org/pandas-docs/stable/indexing.html#indexing-view-versus-copy\n"
     ]
    },
    {
     "data": {
      "text/html": [
       "<div>\n",
       "<style scoped>\n",
       "    .dataframe tbody tr th:only-of-type {\n",
       "        vertical-align: middle;\n",
       "    }\n",
       "\n",
       "    .dataframe tbody tr th {\n",
       "        vertical-align: top;\n",
       "    }\n",
       "\n",
       "    .dataframe thead th {\n",
       "        text-align: right;\n",
       "    }\n",
       "</style>\n",
       "<table border=\"1\" class=\"dataframe\">\n",
       "  <thead>\n",
       "    <tr style=\"text-align: right;\">\n",
       "      <th></th>\n",
       "      <th>Current_Natural_Log_Ratio</th>\n",
       "      <th>age_2</th>\n",
       "      <th>sample_type_body_site</th>\n",
       "    </tr>\n",
       "    <tr>\n",
       "      <th>Sample ID</th>\n",
       "      <th></th>\n",
       "      <th></th>\n",
       "      <th></th>\n",
       "    </tr>\n",
       "  </thead>\n",
       "  <tbody>\n",
       "    <tr>\n",
       "      <th>11721.s38.19.gill</th>\n",
       "      <td>1.386294</td>\n",
       "      <td>1.822654</td>\n",
       "      <td>fish gill</td>\n",
       "    </tr>\n",
       "    <tr>\n",
       "      <th>11721.ep25ul.1000nl.s12.5.gill</th>\n",
       "      <td>1.342698</td>\n",
       "      <td>1.772148</td>\n",
       "      <td>fish gill</td>\n",
       "    </tr>\n",
       "    <tr>\n",
       "      <th>11721.s38.13.gill</th>\n",
       "      <td>6.555072</td>\n",
       "      <td>0.864577</td>\n",
       "      <td>fish gill</td>\n",
       "    </tr>\n",
       "    <tr>\n",
       "      <th>11721.s38.16.gill</th>\n",
       "      <td>6.540870</td>\n",
       "      <td>2.304387</td>\n",
       "      <td>fish gill</td>\n",
       "    </tr>\n",
       "    <tr>\n",
       "      <th>11721.echo5ul.200nl.s9.6.gill</th>\n",
       "      <td>6.877222</td>\n",
       "      <td>1.772148</td>\n",
       "      <td>fish gill</td>\n",
       "    </tr>\n",
       "  </tbody>\n",
       "</table>\n",
       "</div>"
      ],
      "text/plain": [
       "                                Current_Natural_Log_Ratio     age_2  \\\n",
       "Sample ID                                                             \n",
       "11721.s38.19.gill                                1.386294  1.822654   \n",
       "11721.ep25ul.1000nl.s12.5.gill                   1.342698  1.772148   \n",
       "11721.s38.13.gill                                6.555072  0.864577   \n",
       "11721.s38.16.gill                                6.540870  2.304387   \n",
       "11721.echo5ul.200nl.s9.6.gill                    6.877222  1.772148   \n",
       "\n",
       "                               sample_type_body_site  \n",
       "Sample ID                                             \n",
       "11721.s38.19.gill                          fish gill  \n",
       "11721.ep25ul.1000nl.s12.5.gill             fish gill  \n",
       "11721.s38.13.gill                          fish gill  \n",
       "11721.s38.16.gill                          fish gill  \n",
       "11721.echo5ul.200nl.s9.6.gill              fish gill  "
      ]
     },
     "execution_count": 33,
     "metadata": {},
     "output_type": "execute_result"
    }
   ],
   "source": [
    "df = load_log_ratios(\"logratios.tsv\")\n",
    "df.head()"
   ]
  },
  {
   "cell_type": "code",
   "execution_count": 34,
   "metadata": {},
   "outputs": [
    {
     "data": {
      "image/png": "[encoded data removed]",
      "text/plain": [
       "<matplotlib.figure.Figure at 0x7f3a2f469860>"
      ]
     },
     "metadata": {
      "needs_background": "light"
     },
     "output_type": "display_data"
    }
   ],
   "source": [
    "make_scatterplot_of_log_ratios(df)"
   ]
  },
  {
   "cell_type": "code",
   "execution_count": 35,
   "metadata": {},
   "outputs": [
    {
     "name": "stdout",
     "output_type": "stream",
     "text": [
      "R^2 = 0.10082600085558602\n"
     ]
    },
    {
     "data": {
      "image/png": "[encoded data removed]",
      "text/plain": [
       "<matplotlib.figure.Figure at 0x7f3a2f4521d0>"
      ]
     },
     "metadata": {
      "needs_background": "light"
     },
     "output_type": "display_data"
    }
   ],
   "source": [
    "perform_ols_regression_on_log_ratios(df, \"fig1d.pdf\")"
   ]
  },
  {
   "cell_type": "markdown",
   "metadata": {},
   "source": [
    "## Log-ratio of top 10% of features to bottom 10% of features for the gill differentials\n",
    "It's actually the top ~9.95% of features, since the number of features in this dataset isn't divisible by 10. I hope you can forgive me ;)\n",
    "\n",
    "Interestingly, although many more samples overall have a valid log-ratio for this log-ratio than the Shewanella:Synechococcales log-ratio (530 vs. 285), *less* gill samples have a valid log-ratio for this log-ratio (94 vs. 143)."
   ]
  },
  {
   "cell_type": "code",
   "execution_count": 36,
   "metadata": {},
   "outputs": [
    {
     "name": "stdout",
     "output_type": "stream",
     "text": [
      "639 samples total in the visualization.\n",
      "530 samples in the visualization have a valid selected log-ratio.\n",
      "94 samples in the visualization with a valid selected log-ratio are gill samples.\n"
     ]
    },
    {
     "name": "stderr",
     "output_type": "stream",
     "text": [
      "/home/marcus/Software/miniconda2/envs/skbio/lib/python3.6/site-packages/ipykernel_launcher.py:27: SettingWithCopyWarning: \n",
      "A value is trying to be set on a copy of a slice from a DataFrame.\n",
      "Try using .loc[row_indexer,col_indexer] = value instead\n",
      "\n",
      "See the caveats in the documentation: http://pandas.pydata.org/pandas-docs/stable/indexing.html#indexing-view-versus-copy\n",
      "/home/marcus/Software/miniconda2/envs/skbio/lib/python3.6/site-packages/ipykernel_launcher.py:28: SettingWithCopyWarning: \n",
      "A value is trying to be set on a copy of a slice from a DataFrame.\n",
      "Try using .loc[row_indexer,col_indexer] = value instead\n",
      "\n",
      "See the caveats in the documentation: http://pandas.pydata.org/pandas-docs/stable/indexing.html#indexing-view-versus-copy\n"
     ]
    },
    {
     "data": {
      "text/html": [
       "<div>\n",
       "<style scoped>\n",
       "    .dataframe tbody tr th:only-of-type {\n",
       "        vertical-align: middle;\n",
       "    }\n",
       "\n",
       "    .dataframe tbody tr th {\n",
       "        vertical-align: top;\n",
       "    }\n",
       "\n",
       "    .dataframe thead th {\n",
       "        text-align: right;\n",
       "    }\n",
       "</style>\n",
       "<table border=\"1\" class=\"dataframe\">\n",
       "  <thead>\n",
       "    <tr style=\"text-align: right;\">\n",
       "      <th></th>\n",
       "      <th>Current_Natural_Log_Ratio</th>\n",
       "      <th>age_2</th>\n",
       "      <th>sample_type_body_site</th>\n",
       "    </tr>\n",
       "    <tr>\n",
       "      <th>Sample ID</th>\n",
       "      <th></th>\n",
       "      <th></th>\n",
       "      <th></th>\n",
       "    </tr>\n",
       "  </thead>\n",
       "  <tbody>\n",
       "    <tr>\n",
       "      <th>11721.s38.19.gill</th>\n",
       "      <td>4.698530</td>\n",
       "      <td>1.822654</td>\n",
       "      <td>fish gill</td>\n",
       "    </tr>\n",
       "    <tr>\n",
       "      <th>11721.ep25ul.1000nl.s12.5.gill</th>\n",
       "      <td>7.157541</td>\n",
       "      <td>1.772148</td>\n",
       "      <td>fish gill</td>\n",
       "    </tr>\n",
       "    <tr>\n",
       "      <th>11721.s38.13.gill</th>\n",
       "      <td>7.477180</td>\n",
       "      <td>0.864577</td>\n",
       "      <td>fish gill</td>\n",
       "    </tr>\n",
       "    <tr>\n",
       "      <th>11721.s38.16.gill</th>\n",
       "      <td>8.157657</td>\n",
       "      <td>2.304387</td>\n",
       "      <td>fish gill</td>\n",
       "    </tr>\n",
       "    <tr>\n",
       "      <th>11721.echo5ul.200nl.s8.6.gill</th>\n",
       "      <td>9.468194</td>\n",
       "      <td>0.823627</td>\n",
       "      <td>fish gill</td>\n",
       "    </tr>\n",
       "  </tbody>\n",
       "</table>\n",
       "</div>"
      ],
      "text/plain": [
       "                                Current_Natural_Log_Ratio     age_2  \\\n",
       "Sample ID                                                             \n",
       "11721.s38.19.gill                                4.698530  1.822654   \n",
       "11721.ep25ul.1000nl.s12.5.gill                   7.157541  1.772148   \n",
       "11721.s38.13.gill                                7.477180  0.864577   \n",
       "11721.s38.16.gill                                8.157657  2.304387   \n",
       "11721.echo5ul.200nl.s8.6.gill                    9.468194  0.823627   \n",
       "\n",
       "                               sample_type_body_site  \n",
       "Sample ID                                             \n",
       "11721.s38.19.gill                          fish gill  \n",
       "11721.ep25ul.1000nl.s12.5.gill             fish gill  \n",
       "11721.s38.13.gill                          fish gill  \n",
       "11721.s38.16.gill                          fish gill  \n",
       "11721.echo5ul.200nl.s8.6.gill              fish gill  "
      ]
     },
     "execution_count": 36,
     "metadata": {},
     "output_type": "execute_result"
    }
   ],
   "source": [
    "df2 = load_log_ratios(\"10_logratios.tsv\")\n",
    "df2.head()"
   ]
  },
  {
   "cell_type": "code",
   "execution_count": 37,
   "metadata": {},
   "outputs": [
    {
     "data": {
      "image/png": "[encoded data removed]",
      "text/plain": [
       "<matplotlib.figure.Figure at 0x7f3a34cf6128>"
      ]
     },
     "metadata": {
      "needs_background": "light"
     },
     "output_type": "display_data"
    }
   ],
   "source": [
    "make_scatterplot_of_log_ratios(df2)"
   ]
  },
  {
   "cell_type": "code",
   "execution_count": 38,
   "metadata": {},
   "outputs": [
    {
     "name": "stdout",
     "output_type": "stream",
     "text": [
      "R^2 = 0.09275135863733142\n"
     ]
    },
    {
     "data": {
      "image/png": "[encoded data removed]",
      "text/plain": [
       "<matplotlib.figure.Figure at 0x7f3a35a6be80>"
      ]
     },
     "metadata": {
      "needs_background": "light"
     },
     "output_type": "display_data"
    }
   ],
   "source": [
    "perform_ols_regression_on_log_ratios(df2, \"fig2d.pdf\")"
   ]
  }
 ],
 "metadata": {
  "kernelspec": {
   "display_name": "Python 3",
   "language": "python",
   "name": "python3"
  },
  "language_info": {
   "codemirror_mode": {
    "name": "ipython",
    "version": 3
   },
   "file_extension": ".py",
   "mimetype": "text/x-python",
   "name": "python",
   "nbconvert_exporter": "python",
   "pygments_lexer": "ipython3",
   "version": "3.6.7"
  }
 },
 "nbformat": 4,
 "nbformat_minor": 2
}
